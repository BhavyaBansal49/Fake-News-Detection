{
  "nbformat": 4,
  "nbformat_minor": 0,
  "metadata": {
    "colab": {
      "name": "Fake News Detection Logistic Regression.ipynb",
      "provenance": [],
      "mount_file_id": "1W5uJQXvO8hmPxFX0hI1rz2qhKZHRO4FK",
      "authorship_tag": "ABX9TyO4RNv5yYzHvhmOfcjZS4eC",
      "include_colab_link": true
    },
    "kernelspec": {
      "name": "python3",
      "display_name": "Python 3"
    },
    "language_info": {
      "name": "python"
    }
  },
  "cells": [
    {
      "cell_type": "markdown",
      "metadata": {
        "id": "view-in-github",
        "colab_type": "text"
      },
      "source": [
        "<a href=\"https://colab.research.google.com/github/BhavyaBansal49/Fake-News-Detection/blob/main/Fake_News_Detection_Logistic_Regression.ipynb\" target=\"_parent\"><img src=\"https://colab.research.google.com/assets/colab-badge.svg\" alt=\"Open In Colab\"/></a>"
      ]
    },
    {
      "cell_type": "markdown",
      "metadata": {
        "id": "i7jM42HOv4Df"
      },
      "source": [
        "# About the dataset:\n",
        "\n",
        "\n",
        "1.   id: unique id for a news article\n",
        "2.   title: the title of a news article\n",
        "3.   author: author of the news article\n",
        "4.   text: the text of the article, could be incomplete\n",
        "5.   label: a label that marks whether the news article is real or fake"
      ]
    },
    {
      "cell_type": "markdown",
      "metadata": {
        "id": "YAOBARb2wZVh"
      },
      "source": [
        "###Setting up the environment"
      ]
    },
    {
      "cell_type": "code",
      "metadata": {
        "id": "7eEHNnVhvU8Q"
      },
      "source": [
        "#import libraries\n",
        "import numpy as np\n",
        "import pandas as pd\n",
        "import re\n",
        "from nltk.corpus import stopwords\n",
        "from nltk.stem.porter import PorterStemmer\n",
        "from sklearn.feature_extraction.text import TfidfVectorizer\n",
        "from sklearn.model_selection import train_test_split\n",
        "from sklearn.linear_model import LogisticRegression\n",
        "from sklearn.metrics import accuracy_score\n",
        "from sklearn.metrics import confusion_matrix"
      ],
      "execution_count": 33,
      "outputs": []
    },
    {
      "cell_type": "code",
      "metadata": {
        "colab": {
          "base_uri": "https://localhost:8080/"
        },
        "id": "rQdPiISkxIeH",
        "outputId": "3e46ad6d-ec50-490d-d6a0-d863e2bf6c5d"
      },
      "source": [
        "#download stopwords\n",
        "import nltk\n",
        "nltk.download('stopwords')"
      ],
      "execution_count": 2,
      "outputs": [
        {
          "output_type": "stream",
          "name": "stdout",
          "text": [
            "[nltk_data] Downloading package stopwords to /root/nltk_data...\n",
            "[nltk_data]   Unzipping corpora/stopwords.zip.\n"
          ]
        },
        {
          "output_type": "execute_result",
          "data": {
            "text/plain": [
              "True"
            ]
          },
          "metadata": {},
          "execution_count": 2
        }
      ]
    },
    {
      "cell_type": "code",
      "metadata": {
        "colab": {
          "base_uri": "https://localhost:8080/"
        },
        "id": "98hT_f_FxljQ",
        "outputId": "f79aa1fe-8560-4d67-97a6-2c1578ebaa72"
      },
      "source": [
        "#checking the stop words for english language\n",
        "print(stopwords.words('english'))"
      ],
      "execution_count": 3,
      "outputs": [
        {
          "output_type": "stream",
          "name": "stdout",
          "text": [
            "['i', 'me', 'my', 'myself', 'we', 'our', 'ours', 'ourselves', 'you', \"you're\", \"you've\", \"you'll\", \"you'd\", 'your', 'yours', 'yourself', 'yourselves', 'he', 'him', 'his', 'himself', 'she', \"she's\", 'her', 'hers', 'herself', 'it', \"it's\", 'its', 'itself', 'they', 'them', 'their', 'theirs', 'themselves', 'what', 'which', 'who', 'whom', 'this', 'that', \"that'll\", 'these', 'those', 'am', 'is', 'are', 'was', 'were', 'be', 'been', 'being', 'have', 'has', 'had', 'having', 'do', 'does', 'did', 'doing', 'a', 'an', 'the', 'and', 'but', 'if', 'or', 'because', 'as', 'until', 'while', 'of', 'at', 'by', 'for', 'with', 'about', 'against', 'between', 'into', 'through', 'during', 'before', 'after', 'above', 'below', 'to', 'from', 'up', 'down', 'in', 'out', 'on', 'off', 'over', 'under', 'again', 'further', 'then', 'once', 'here', 'there', 'when', 'where', 'why', 'how', 'all', 'any', 'both', 'each', 'few', 'more', 'most', 'other', 'some', 'such', 'no', 'nor', 'not', 'only', 'own', 'same', 'so', 'than', 'too', 'very', 's', 't', 'can', 'will', 'just', 'don', \"don't\", 'should', \"should've\", 'now', 'd', 'll', 'm', 'o', 're', 've', 'y', 'ain', 'aren', \"aren't\", 'couldn', \"couldn't\", 'didn', \"didn't\", 'doesn', \"doesn't\", 'hadn', \"hadn't\", 'hasn', \"hasn't\", 'haven', \"haven't\", 'isn', \"isn't\", 'ma', 'mightn', \"mightn't\", 'mustn', \"mustn't\", 'needn', \"needn't\", 'shan', \"shan't\", 'shouldn', \"shouldn't\", 'wasn', \"wasn't\", 'weren', \"weren't\", 'won', \"won't\", 'wouldn', \"wouldn't\"]\n"
          ]
        }
      ]
    },
    {
      "cell_type": "markdown",
      "metadata": {
        "id": "MLYOuqOqx39I"
      },
      "source": [
        "### Data Pre-Processing"
      ]
    },
    {
      "cell_type": "code",
      "metadata": {
        "id": "3EzzJQ9vxvGz"
      },
      "source": [
        "#reading the csv file into a pandas dataframe\n",
        "news_df = pd.read_csv('/content/drive/MyDrive/Project/Fake News Detection/train.csv')"
      ],
      "execution_count": 4,
      "outputs": []
    },
    {
      "cell_type": "code",
      "metadata": {
        "colab": {
          "base_uri": "https://localhost:8080/"
        },
        "id": "JiwhElEqyUJi",
        "outputId": "92dd757a-544d-42e4-fab3-9373dd2834b1"
      },
      "source": [
        "#check the number of rows and column in the dataset\n",
        "news_df.shape"
      ],
      "execution_count": 5,
      "outputs": [
        {
          "output_type": "execute_result",
          "data": {
            "text/plain": [
              "(20800, 5)"
            ]
          },
          "metadata": {},
          "execution_count": 5
        }
      ]
    },
    {
      "cell_type": "code",
      "metadata": {
        "colab": {
          "base_uri": "https://localhost:8080/",
          "height": 291
        },
        "id": "14xBhj9AyZbf",
        "outputId": "85625069-196a-4775-e05f-144dd4a0359f"
      },
      "source": [
        "#checking the first 5 rows of the dataframe\n",
        "news_df.head()"
      ],
      "execution_count": 6,
      "outputs": [
        {
          "output_type": "execute_result",
          "data": {
            "text/html": [
              "<div>\n",
              "<style scoped>\n",
              "    .dataframe tbody tr th:only-of-type {\n",
              "        vertical-align: middle;\n",
              "    }\n",
              "\n",
              "    .dataframe tbody tr th {\n",
              "        vertical-align: top;\n",
              "    }\n",
              "\n",
              "    .dataframe thead th {\n",
              "        text-align: right;\n",
              "    }\n",
              "</style>\n",
              "<table border=\"1\" class=\"dataframe\">\n",
              "  <thead>\n",
              "    <tr style=\"text-align: right;\">\n",
              "      <th></th>\n",
              "      <th>id</th>\n",
              "      <th>title</th>\n",
              "      <th>author</th>\n",
              "      <th>text</th>\n",
              "      <th>label</th>\n",
              "    </tr>\n",
              "  </thead>\n",
              "  <tbody>\n",
              "    <tr>\n",
              "      <th>0</th>\n",
              "      <td>0</td>\n",
              "      <td>House Dem Aide: We Didn’t Even See Comey’s Let...</td>\n",
              "      <td>Darrell Lucus</td>\n",
              "      <td>House Dem Aide: We Didn’t Even See Comey’s Let...</td>\n",
              "      <td>1</td>\n",
              "    </tr>\n",
              "    <tr>\n",
              "      <th>1</th>\n",
              "      <td>1</td>\n",
              "      <td>FLYNN: Hillary Clinton, Big Woman on Campus - ...</td>\n",
              "      <td>Daniel J. Flynn</td>\n",
              "      <td>Ever get the feeling your life circles the rou...</td>\n",
              "      <td>0</td>\n",
              "    </tr>\n",
              "    <tr>\n",
              "      <th>2</th>\n",
              "      <td>2</td>\n",
              "      <td>Why the Truth Might Get You Fired</td>\n",
              "      <td>Consortiumnews.com</td>\n",
              "      <td>Why the Truth Might Get You Fired October 29, ...</td>\n",
              "      <td>1</td>\n",
              "    </tr>\n",
              "    <tr>\n",
              "      <th>3</th>\n",
              "      <td>3</td>\n",
              "      <td>15 Civilians Killed In Single US Airstrike Hav...</td>\n",
              "      <td>Jessica Purkiss</td>\n",
              "      <td>Videos 15 Civilians Killed In Single US Airstr...</td>\n",
              "      <td>1</td>\n",
              "    </tr>\n",
              "    <tr>\n",
              "      <th>4</th>\n",
              "      <td>4</td>\n",
              "      <td>Iranian woman jailed for fictional unpublished...</td>\n",
              "      <td>Howard Portnoy</td>\n",
              "      <td>Print \\nAn Iranian woman has been sentenced to...</td>\n",
              "      <td>1</td>\n",
              "    </tr>\n",
              "  </tbody>\n",
              "</table>\n",
              "</div>"
            ],
            "text/plain": [
              "   id  ... label\n",
              "0   0  ...     1\n",
              "1   1  ...     0\n",
              "2   2  ...     1\n",
              "3   3  ...     1\n",
              "4   4  ...     1\n",
              "\n",
              "[5 rows x 5 columns]"
            ]
          },
          "metadata": {},
          "execution_count": 6
        }
      ]
    },
    {
      "cell_type": "code",
      "metadata": {
        "colab": {
          "base_uri": "https://localhost:8080/"
        },
        "id": "GOKkUWDWyhCQ",
        "outputId": "cdd7047f-66f3-4405-a62b-0401aa7f966e"
      },
      "source": [
        "#checking for missing values\n",
        "news_df.isnull().sum()"
      ],
      "execution_count": 7,
      "outputs": [
        {
          "output_type": "execute_result",
          "data": {
            "text/plain": [
              "id           0\n",
              "title      558\n",
              "author    1957\n",
              "text        39\n",
              "label        0\n",
              "dtype: int64"
            ]
          },
          "metadata": {},
          "execution_count": 7
        }
      ]
    },
    {
      "cell_type": "code",
      "metadata": {
        "id": "AyI3C70syyNo"
      },
      "source": [
        "#replacing the missing values with empty strings\n",
        "news_df =  news_df.fillna('')"
      ],
      "execution_count": 8,
      "outputs": []
    },
    {
      "cell_type": "code",
      "metadata": {
        "id": "qJdm-fRdzTPR"
      },
      "source": [
        "#merging the author and news title column\n",
        "news_df['content'] = news_df['author']+' '+news_df['title']"
      ],
      "execution_count": 9,
      "outputs": []
    },
    {
      "cell_type": "code",
      "metadata": {
        "colab": {
          "base_uri": "https://localhost:8080/"
        },
        "id": "4JSgfg6EzsRB",
        "outputId": "2c73d924-5795-492f-c782-b04cdcaefd62"
      },
      "source": [
        "#check for the new column\n",
        "print(news_df['content'].head())"
      ],
      "execution_count": 10,
      "outputs": [
        {
          "output_type": "stream",
          "name": "stdout",
          "text": [
            "0    Darrell Lucus House Dem Aide: We Didn’t Even S...\n",
            "1    Daniel J. Flynn FLYNN: Hillary Clinton, Big Wo...\n",
            "2    Consortiumnews.com Why the Truth Might Get You...\n",
            "3    Jessica Purkiss 15 Civilians Killed In Single ...\n",
            "4    Howard Portnoy Iranian woman jailed for fictio...\n",
            "Name: content, dtype: object\n"
          ]
        }
      ]
    },
    {
      "cell_type": "code",
      "metadata": {
        "id": "8nmsOzCLzzGr"
      },
      "source": [
        "#separating the data & label\n",
        "X = news_df.drop('label', axis=1)\n",
        "Y = news_df['label']"
      ],
      "execution_count": 11,
      "outputs": []
    },
    {
      "cell_type": "code",
      "metadata": {
        "colab": {
          "base_uri": "https://localhost:8080/"
        },
        "id": "hYqDBIPu0LGf",
        "outputId": "afd12c7c-0237-46c7-ae01-46f50d3a15d7"
      },
      "source": [
        "#print X and Y\n",
        "print(X.head())\n",
        "print(Y.head())"
      ],
      "execution_count": 12,
      "outputs": [
        {
          "output_type": "stream",
          "name": "stdout",
          "text": [
            "   id  ...                                            content\n",
            "0   0  ...  Darrell Lucus House Dem Aide: We Didn’t Even S...\n",
            "1   1  ...  Daniel J. Flynn FLYNN: Hillary Clinton, Big Wo...\n",
            "2   2  ...  Consortiumnews.com Why the Truth Might Get You...\n",
            "3   3  ...  Jessica Purkiss 15 Civilians Killed In Single ...\n",
            "4   4  ...  Howard Portnoy Iranian woman jailed for fictio...\n",
            "\n",
            "[5 rows x 5 columns]\n",
            "0    1\n",
            "1    0\n",
            "2    1\n",
            "3    1\n",
            "4    1\n",
            "Name: label, dtype: int64\n"
          ]
        }
      ]
    },
    {
      "cell_type": "markdown",
      "metadata": {
        "id": "puWPspBh0X14"
      },
      "source": [
        "### Stemming"
      ]
    },
    {
      "cell_type": "code",
      "metadata": {
        "id": "Sd-_JMRd0RXM"
      },
      "source": [
        "#create a variable for the stemmer function\n",
        "porter_stem = PorterStemmer()"
      ],
      "execution_count": 14,
      "outputs": []
    },
    {
      "cell_type": "code",
      "metadata": {
        "id": "z5DpaZhN058Y"
      },
      "source": [
        "#define a function for stemming\n",
        "def stemming(content):\n",
        "  stemmed_content = re.sub('[^a-zA-Z]',' ',content)\n",
        "  stemmed_content = stemmed_content.lower()\n",
        "  stemmed_content = stemmed_content.split()\n",
        "  stemmed_content = [porter_stem.stem(word) for word in stemmed_content if not word in stopwords.words('english')]\n",
        "  stemmed_content = ' '.join(stemmed_content)\n",
        "  return stemmed_content"
      ],
      "execution_count": 15,
      "outputs": []
    },
    {
      "cell_type": "code",
      "metadata": {
        "id": "mgbLzI5n3EPR"
      },
      "source": [
        "#apply the function to the content column\n",
        "news_df['content'] = news_df['content'].apply(stemming)"
      ],
      "execution_count": 16,
      "outputs": []
    },
    {
      "cell_type": "code",
      "metadata": {
        "colab": {
          "base_uri": "https://localhost:8080/"
        },
        "id": "mD-TBNeA3QoK",
        "outputId": "10329ad5-702d-49f8-e826-2a11469eb381"
      },
      "source": [
        "#print the new content column\n",
        "print(news_df['content'].head())"
      ],
      "execution_count": 18,
      "outputs": [
        {
          "output_type": "stream",
          "name": "stdout",
          "text": [
            "0    darrel lucu hous dem aid even see comey letter...\n",
            "1    daniel j flynn flynn hillari clinton big woman...\n",
            "2               consortiumnew com truth might get fire\n",
            "3    jessica purkiss civilian kill singl us airstri...\n",
            "4    howard portnoy iranian woman jail fiction unpu...\n",
            "Name: content, dtype: object\n"
          ]
        }
      ]
    },
    {
      "cell_type": "markdown",
      "metadata": {
        "id": "pWitoB1b3q1-"
      },
      "source": [
        "### Create new dependent and independent columns into X and Y"
      ]
    },
    {
      "cell_type": "code",
      "metadata": {
        "id": "Xc957KFM3gXg"
      },
      "source": [
        "#separating data and label\n",
        "X = news_df['content'].values\n",
        "Y = news_df['label'].values"
      ],
      "execution_count": 19,
      "outputs": []
    },
    {
      "cell_type": "code",
      "metadata": {
        "colab": {
          "base_uri": "https://localhost:8080/"
        },
        "id": "Ib9rP5_w37aO",
        "outputId": "8bd3f349-0feb-4d92-fbc4-71c44ca635de"
      },
      "source": [
        "#print the head to check\n",
        "print(X)\n",
        "print(Y)"
      ],
      "execution_count": 21,
      "outputs": [
        {
          "output_type": "stream",
          "name": "stdout",
          "text": [
            "['darrel lucu hous dem aid even see comey letter jason chaffetz tweet'\n",
            " 'daniel j flynn flynn hillari clinton big woman campu breitbart'\n",
            " 'consortiumnew com truth might get fire' ...\n",
            " 'michael j de la merc rachel abram maci said receiv takeov approach hudson bay new york time'\n",
            " 'alex ansari nato russia hold parallel exercis balkan'\n",
            " 'david swanson keep f aliv']\n",
            "[1 0 1 ... 0 1 1]\n"
          ]
        }
      ]
    },
    {
      "cell_type": "markdown",
      "metadata": {
        "id": "FooRR02J70Z4"
      },
      "source": [
        "### Vectorization of the textual data"
      ]
    },
    {
      "cell_type": "code",
      "metadata": {
        "id": "RgLlmLv_4AYk"
      },
      "source": [
        "#converting the textual data to numerical data\n",
        "vectorizer = TfidfVectorizer()\n",
        "vectorizer.fit(X)\n",
        "X = vectorizer.transform(X)"
      ],
      "execution_count": 22,
      "outputs": []
    },
    {
      "cell_type": "markdown",
      "metadata": {
        "id": "WNfgEOWi9PTZ"
      },
      "source": [
        "### Split data into Train and Test"
      ]
    },
    {
      "cell_type": "code",
      "metadata": {
        "id": "7P7CZ2KB8kGQ"
      },
      "source": [
        "#keep 20% as test data\n",
        "X_train, X_test, Y_train, Y_test = train_test_split(X, Y, test_size= 0.2, stratify= Y, random_state= 4)"
      ],
      "execution_count": 25,
      "outputs": []
    },
    {
      "cell_type": "markdown",
      "metadata": {
        "id": "xA8pNvoy958J"
      },
      "source": [
        "### Training the models"
      ]
    },
    {
      "cell_type": "code",
      "metadata": {
        "id": "oH4RDUzS9kKu"
      },
      "source": [
        "#Train Logistic Regression Model\n",
        "model = LogisticRegression()"
      ],
      "execution_count": 27,
      "outputs": []
    },
    {
      "cell_type": "code",
      "metadata": {
        "colab": {
          "base_uri": "https://localhost:8080/"
        },
        "id": "GOwe6tCE-lhL",
        "outputId": "74de9563-7591-45db-95df-30615c644845"
      },
      "source": [
        "#Fitting the model\n",
        "model.fit(X_train, Y_train)"
      ],
      "execution_count": 28,
      "outputs": [
        {
          "output_type": "execute_result",
          "data": {
            "text/plain": [
              "LogisticRegression(C=1.0, class_weight=None, dual=False, fit_intercept=True,\n",
              "                   intercept_scaling=1, l1_ratio=None, max_iter=100,\n",
              "                   multi_class='auto', n_jobs=None, penalty='l2',\n",
              "                   random_state=None, solver='lbfgs', tol=0.0001, verbose=0,\n",
              "                   warm_start=False)"
            ]
          },
          "metadata": {},
          "execution_count": 28
        }
      ]
    },
    {
      "cell_type": "markdown",
      "metadata": {
        "id": "IRYQHeH9-zQX"
      },
      "source": [
        "### Evaluating model performance"
      ]
    },
    {
      "cell_type": "code",
      "metadata": {
        "id": "WvPEwUoM-rIT"
      },
      "source": [
        "#Using accuracy score\n",
        "#Using training data\n",
        "X_train_prediction = model.predict(X_train)\n",
        "training_data_accuracy = accuracy_score(X_train_prediction, Y_train)"
      ],
      "execution_count": 29,
      "outputs": []
    },
    {
      "cell_type": "code",
      "metadata": {
        "colab": {
          "base_uri": "https://localhost:8080/"
        },
        "id": "DYkMjXaj_Ir4",
        "outputId": "4bae1a76-4b11-4191-e63b-f7e601400002"
      },
      "source": [
        "print('Accuracy score of the training data: ', training_data_accuracy)"
      ],
      "execution_count": 30,
      "outputs": [
        {
          "output_type": "stream",
          "name": "stdout",
          "text": [
            "Accuracy score of the training data:  0.9870793269230769\n"
          ]
        }
      ]
    },
    {
      "cell_type": "code",
      "metadata": {
        "colab": {
          "base_uri": "https://localhost:8080/"
        },
        "id": "-zPVVM04_boq",
        "outputId": "09d9e96e-6e4e-4cd7-ed0a-80d76ebfa8b6"
      },
      "source": [
        "#Using test data\n",
        "X_test_prediction = model.predict(X_test)\n",
        "test_data_accuracy = accuracy_score(X_test_prediction, Y_test)\n",
        "print('Accuracy score of the test data: ', test_data_accuracy)"
      ],
      "execution_count": 31,
      "outputs": [
        {
          "output_type": "stream",
          "name": "stdout",
          "text": [
            "Accuracy score of the test data:  0.9742788461538462\n"
          ]
        }
      ]
    },
    {
      "cell_type": "markdown",
      "metadata": {
        "id": "jo1gF_HlBsOW"
      },
      "source": [
        "### Confusion Matrix"
      ]
    },
    {
      "cell_type": "code",
      "metadata": {
        "id": "w3AZV8nYBuxR"
      },
      "source": [
        "#Create the confusion matrix and save it in a variable\n",
        "conmat = confusion_matrix(Y_test, X_test_prediction)"
      ],
      "execution_count": 35,
      "outputs": []
    },
    {
      "cell_type": "code",
      "metadata": {
        "id": "HEHH1uoQCNHC"
      },
      "source": [
        "#Create a dataframe for the confusion matrix\n",
        "val = np.mat(conmat)\n",
        "classnames = list(set(Y_train))\n",
        "df_cm = pd.DataFrame(val, index= classnames, columns= classnames)"
      ],
      "execution_count": 37,
      "outputs": []
    },
    {
      "cell_type": "code",
      "metadata": {
        "colab": {
          "base_uri": "https://localhost:8080/",
          "height": 295
        },
        "id": "ppnvYnBoB_70",
        "outputId": "6a9cf06b-28c8-4d93-f778-90d32e4baadf"
      },
      "source": [
        "#Using seaborn to create a gradient graph\n",
        "import matplotlib.pyplot as plt\n",
        "import seaborn as sns\n",
        "\n",
        "plt.figure()\n",
        "\n",
        "heatmap = sns.heatmap(df_cm, annot= True, cmap=\"Blues\")\n",
        "\n",
        "plt.ylabel('True Label')\n",
        "plt.xlabel('Predicted Label')\n",
        "plt.title('Fake News Detection Model Results')\n",
        "plt.show()"
      ],
      "execution_count": 41,
      "outputs": [
        {
          "output_type": "display_data",
          "data": {
            "image/png": "[encoded data removed]",
            "text/plain": [
              "<Figure size 432x288 with 2 Axes>"
            ]
          },
          "metadata": {
            "needs_background": "light"
          }
        }
      ]
    }
  ]
}